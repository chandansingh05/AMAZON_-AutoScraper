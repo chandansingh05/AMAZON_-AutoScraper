{
 "cells": [
  {
   "cell_type": "code",
   "execution_count": 1,
   "id": "chubby-guard",
   "metadata": {},
   "outputs": [],
   "source": [
    "from autoscraper import AutoScraper\n",
    "import pandas as pd"
   ]
  },
  {
   "cell_type": "code",
   "execution_count": 2,
   "id": "saving-moses",
   "metadata": {},
   "outputs": [
    {
     "name": "stdout",
     "output_type": "stream",
     "text": [
      "https://www.amazon.in/s?k=iphone+11+silver&s=price-desc-rank\n"
     ]
    }
   ],
   "source": [
    "search = \"iphone+11+silver\"\n",
    "amazon_url=\"https://www.amazon.in/s?k={}&s=price-desc-rank\".format(search)\n",
    "print(amazon_url)"
   ]
  },
  {
   "cell_type": "markdown",
   "id": "governmental-intellectual",
   "metadata": {},
   "source": [
    "# Defining what data I want"
   ]
  },
  {
   "cell_type": "code",
   "execution_count": 3,
   "id": "impaired-french",
   "metadata": {},
   "outputs": [],
   "source": [
    "wanted_list=[\"https://m.media-amazon.com/images/I/71umuN8XVeL._AC_UY218_.jpg\",\"New Apple iPhone 12 Pro Max (128GB) - Silver\",\"1,25,900\",\"501\"]"
   ]
  },
  {
   "cell_type": "code",
   "execution_count": 4,
   "id": "unauthorized-shirt",
   "metadata": {},
   "outputs": [],
   "source": [
    "scraper=AutoScraper()\n",
    "result=scraper.build(amazon_url,wanted_list)"
   ]
  },
  {
   "cell_type": "code",
   "execution_count": 5,
   "id": "surrounded-consent",
   "metadata": {},
   "outputs": [
    {
     "name": "stdout",
     "output_type": "stream",
     "text": [
      "{}\n"
     ]
    }
   ],
   "source": [
    "data = scraper.get_result_similar(amazon_url,grouped=True)\n",
    "print(data)"
   ]
  },
  {
   "cell_type": "code",
   "execution_count": 6,
   "id": "initial-adams",
   "metadata": {},
   "outputs": [
    {
     "name": "stdout",
     "output_type": "stream",
     "text": [
      "[]\n"
     ]
    }
   ],
   "source": [
    "keys = list(data.keys())\n",
    "print(keys)"
   ]
  },
  {
   "cell_type": "markdown",
   "id": "straight-basic",
   "metadata": {},
   "source": [
    "## Defining alias"
   ]
  },
  {
   "cell_type": "code",
   "execution_count": 7,
   "id": "seasonal-marble",
   "metadata": {},
   "outputs": [
    {
     "ename": "IndexError",
     "evalue": "list index out of range",
     "output_type": "error",
     "traceback": [
      "\u001b[1;31m---------------------------------------------------------------------------\u001b[0m",
      "\u001b[1;31mIndexError\u001b[0m                                Traceback (most recent call last)",
      "\u001b[1;32m<ipython-input-7-bde3ae1e1a80>\u001b[0m in \u001b[0;36m<module>\u001b[1;34m\u001b[0m\n\u001b[1;32m----> 1\u001b[1;33m \u001b[0mscraper\u001b[0m\u001b[1;33m.\u001b[0m\u001b[0mset_rule_aliases\u001b[0m\u001b[1;33m(\u001b[0m\u001b[1;33m{\u001b[0m\u001b[0mstr\u001b[0m\u001b[1;33m(\u001b[0m\u001b[0mkeys\u001b[0m\u001b[1;33m[\u001b[0m\u001b[1;36m0\u001b[0m\u001b[1;33m]\u001b[0m\u001b[1;33m)\u001b[0m\u001b[1;33m:\u001b[0m\u001b[1;34m'ImageUrl'\u001b[0m\u001b[1;33m,\u001b[0m\u001b[0mstr\u001b[0m\u001b[1;33m(\u001b[0m\u001b[0mkeys\u001b[0m\u001b[1;33m[\u001b[0m\u001b[1;36m2\u001b[0m\u001b[1;33m]\u001b[0m\u001b[1;33m)\u001b[0m\u001b[1;33m:\u001b[0m\u001b[1;34m'Title'\u001b[0m\u001b[1;33m,\u001b[0m\u001b[0mstr\u001b[0m\u001b[1;33m(\u001b[0m\u001b[0mkeys\u001b[0m\u001b[1;33m[\u001b[0m\u001b[1;33m-\u001b[0m\u001b[1;36m2\u001b[0m\u001b[1;33m]\u001b[0m\u001b[1;33m)\u001b[0m\u001b[1;33m:\u001b[0m\u001b[1;34m'Price'\u001b[0m\u001b[1;33m,\u001b[0m\u001b[0mstr\u001b[0m\u001b[1;33m(\u001b[0m\u001b[0mkeys\u001b[0m\u001b[1;33m[\u001b[0m\u001b[1;33m-\u001b[0m\u001b[1;36m1\u001b[0m\u001b[1;33m]\u001b[0m\u001b[1;33m)\u001b[0m\u001b[1;33m:\u001b[0m\u001b[1;34m'Reviews'\u001b[0m\u001b[1;33m}\u001b[0m\u001b[1;33m)\u001b[0m\u001b[1;33m\u001b[0m\u001b[1;33m\u001b[0m\u001b[0m\n\u001b[0m",
      "\u001b[1;31mIndexError\u001b[0m: list index out of range"
     ]
    }
   ],
   "source": [
    "scraper.set_rule_aliases({str(keys[0]):'ImageUrl',str(keys[2]):'Title',str(keys[-2]):'Price',str(keys[-1]):'Reviews'})"
   ]
  },
  {
   "cell_type": "code",
   "execution_count": null,
   "id": "express-palestine",
   "metadata": {},
   "outputs": [],
   "source": [
    "scraper.save(\"amazon_in_all.json\")"
   ]
  },
  {
   "cell_type": "markdown",
   "id": "municipal-prefix",
   "metadata": {},
   "source": [
    "## Testing for other search word"
   ]
  },
  {
   "cell_type": "code",
   "execution_count": 8,
   "id": "after-extent",
   "metadata": {},
   "outputs": [],
   "source": [
    "amazon_scraper = AutoScraper()\n",
    "amazon_scraper.load('amazon_in.json')"
   ]
  },
  {
   "cell_type": "code",
   "execution_count": 9,
   "id": "numeric-newcastle",
   "metadata": {},
   "outputs": [],
   "source": [
    "search = \"samsung phones\"\n",
    "amazon_url=\"https://www.amazon.in/s?k={}&s=price-desc-rank\".format(search)\n",
    "\n",
    "#data = amazon_scraper.get_result_similar(amazon_url, group_by_alias=True)\n",
    "#search_data = tuple(zip(data['Title'],data['ImageUrl'],data['Price'],data['Reviews']))"
   ]
  },
  {
   "cell_type": "code",
   "execution_count": 10,
   "id": "digital-debut",
   "metadata": {},
   "outputs": [],
   "source": [
    "data = amazon_scraper.get_result_similar(amazon_url, group_by_alias=True)\n",
    "search_data = tuple(zip(data['Title'],data['ImageUrl'],data['Price'],data['Reviews']))"
   ]
  },
  {
   "cell_type": "code",
   "execution_count": 11,
   "id": "italian-drain",
   "metadata": {},
   "outputs": [],
   "source": [
    "df = pd.DataFrame(columns=['Query','Title','Price','Reviews','ImageUrl'])\n",
    "for i in range(len(search_data)):\n",
    "    df.loc[len(df)] = [search,search_data[i][0],search_data[i][2],search_data[i][3],search_data[i][1]]"
   ]
  },
  {
   "cell_type": "code",
   "execution_count": 12,
   "id": "christian-slope",
   "metadata": {},
   "outputs": [
    {
     "name": "stdout",
     "output_type": "stream",
     "text": [
      "(14, 5)\n"
     ]
    },
    {
     "data": {
      "text/html": [
       "<div>\n",
       "<style scoped>\n",
       "    .dataframe tbody tr th:only-of-type {\n",
       "        vertical-align: middle;\n",
       "    }\n",
       "\n",
       "    .dataframe tbody tr th {\n",
       "        vertical-align: top;\n",
       "    }\n",
       "\n",
       "    .dataframe thead th {\n",
       "        text-align: right;\n",
       "    }\n",
       "</style>\n",
       "<table border=\"1\" class=\"dataframe\">\n",
       "  <thead>\n",
       "    <tr style=\"text-align: right;\">\n",
       "      <th></th>\n",
       "      <th>Query</th>\n",
       "      <th>Title</th>\n",
       "      <th>Price</th>\n",
       "      <th>Reviews</th>\n",
       "      <th>ImageUrl</th>\n",
       "    </tr>\n",
       "  </thead>\n",
       "  <tbody>\n",
       "    <tr>\n",
       "      <th>0</th>\n",
       "      <td>samsung phones</td>\n",
       "      <td>Samsung Galaxy Z Fold2 5G Mystic Bronze, 12GB ...</td>\n",
       "      <td>1,49,998</td>\n",
       "      <td>72</td>\n",
       "      <td>https://m.media-amazon.com/images/I/71U9nzW+Xs...</td>\n",
       "    </tr>\n",
       "    <tr>\n",
       "      <th>1</th>\n",
       "      <td>samsung phones</td>\n",
       "      <td>Samsung Galaxy Z Fold2 5G (Mystic Black, 12GB ...</td>\n",
       "      <td>1,49,998</td>\n",
       "      <td>72</td>\n",
       "      <td>https://m.media-amazon.com/images/I/71IHjrw1wV...</td>\n",
       "    </tr>\n",
       "    <tr>\n",
       "      <th>2</th>\n",
       "      <td>samsung phones</td>\n",
       "      <td>Samsung Galaxy Fold (Black, 12GB RAM, 512GB St...</td>\n",
       "      <td>1,14,990</td>\n",
       "      <td>15</td>\n",
       "      <td>https://m.media-amazon.com/images/I/71LhAERRPa...</td>\n",
       "    </tr>\n",
       "    <tr>\n",
       "      <th>3</th>\n",
       "      <td>samsung phones</td>\n",
       "      <td>Samsung Galaxy S21 Ultra 5G (Phantom Black, 12...</td>\n",
       "      <td>1,05,999</td>\n",
       "      <td>406</td>\n",
       "      <td>https://m.media-amazon.com/images/I/917nPCOw9-...</td>\n",
       "    </tr>\n",
       "    <tr>\n",
       "      <th>4</th>\n",
       "      <td>samsung phones</td>\n",
       "      <td>Samsung Galaxy S21 Ultra 5G (Phantom Silver, 1...</td>\n",
       "      <td>1,05,999</td>\n",
       "      <td>406</td>\n",
       "      <td>https://m.media-amazon.com/images/I/91dLTREdG1...</td>\n",
       "    </tr>\n",
       "    <tr>\n",
       "      <th>5</th>\n",
       "      <td>samsung phones</td>\n",
       "      <td>Samsung Galaxy Note 20 Ultra 5G (Mystic Black,...</td>\n",
       "      <td>1,02,999</td>\n",
       "      <td>337</td>\n",
       "      <td>https://m.media-amazon.com/images/I/81frwlzRG5...</td>\n",
       "    </tr>\n",
       "    <tr>\n",
       "      <th>6</th>\n",
       "      <td>samsung phones</td>\n",
       "      <td>Samsung Galaxy Note 20 Ultra 5G (Mystic Bronze...</td>\n",
       "      <td>1,02,999</td>\n",
       "      <td>337</td>\n",
       "      <td>https://m.media-amazon.com/images/I/81afQk-7Aj...</td>\n",
       "    </tr>\n",
       "    <tr>\n",
       "      <th>7</th>\n",
       "      <td>samsung phones</td>\n",
       "      <td>(Renewed) Samsung Galaxy S21 Ultra(Phantom Bla...</td>\n",
       "      <td>97,999</td>\n",
       "      <td>1</td>\n",
       "      <td>https://m.media-amazon.com/images/I/61wES5z2Qe...</td>\n",
       "    </tr>\n",
       "    <tr>\n",
       "      <th>8</th>\n",
       "      <td>samsung phones</td>\n",
       "      <td>(Renewed) Samsung Galaxy Note 20 Ultra 5G (Mys...</td>\n",
       "      <td>84,999</td>\n",
       "      <td>11</td>\n",
       "      <td>https://m.media-amazon.com/images/I/51uGZJytm8...</td>\n",
       "    </tr>\n",
       "    <tr>\n",
       "      <th>9</th>\n",
       "      <td>samsung phones</td>\n",
       "      <td>Samsung Galaxy S20 Ultra (Cloud White, 12GB RA...</td>\n",
       "      <td>84,999</td>\n",
       "      <td>24</td>\n",
       "      <td>https://m.media-amazon.com/images/I/710PrlbpGA...</td>\n",
       "    </tr>\n",
       "    <tr>\n",
       "      <th>10</th>\n",
       "      <td>samsung phones</td>\n",
       "      <td>Samsung Galaxy Z Flip (Black, 8GB RAM, 256GB S...</td>\n",
       "      <td>84,999</td>\n",
       "      <td>71</td>\n",
       "      <td>https://m.media-amazon.com/images/I/71SyO27jEj...</td>\n",
       "    </tr>\n",
       "    <tr>\n",
       "      <th>11</th>\n",
       "      <td>samsung phones</td>\n",
       "      <td>Samsung Galaxy S20 Ultra (Cosmic Gray, 12GB RA...</td>\n",
       "      <td>83,999</td>\n",
       "      <td>241</td>\n",
       "      <td>https://m.media-amazon.com/images/I/71cD4NUIBW...</td>\n",
       "    </tr>\n",
       "    <tr>\n",
       "      <th>12</th>\n",
       "      <td>samsung phones</td>\n",
       "      <td>Samsung Galaxy Z Flip (Gold, 8GB RAM, 256GB St...</td>\n",
       "      <td>82,198</td>\n",
       "      <td>71</td>\n",
       "      <td>https://m.media-amazon.com/images/I/61e3gEDsIb...</td>\n",
       "    </tr>\n",
       "    <tr>\n",
       "      <th>13</th>\n",
       "      <td>samsung phones</td>\n",
       "      <td>Samsung Galaxy S21 Plus(Phantom Violet, 8GB RA...</td>\n",
       "      <td>80,999</td>\n",
       "      <td>129</td>\n",
       "      <td>https://m.media-amazon.com/images/I/91f+vkhKfn...</td>\n",
       "    </tr>\n",
       "  </tbody>\n",
       "</table>\n",
       "</div>"
      ],
      "text/plain": [
       "             Query                                              Title  \\\n",
       "0   samsung phones  Samsung Galaxy Z Fold2 5G Mystic Bronze, 12GB ...   \n",
       "1   samsung phones  Samsung Galaxy Z Fold2 5G (Mystic Black, 12GB ...   \n",
       "2   samsung phones  Samsung Galaxy Fold (Black, 12GB RAM, 512GB St...   \n",
       "3   samsung phones  Samsung Galaxy S21 Ultra 5G (Phantom Black, 12...   \n",
       "4   samsung phones  Samsung Galaxy S21 Ultra 5G (Phantom Silver, 1...   \n",
       "5   samsung phones  Samsung Galaxy Note 20 Ultra 5G (Mystic Black,...   \n",
       "6   samsung phones  Samsung Galaxy Note 20 Ultra 5G (Mystic Bronze...   \n",
       "7   samsung phones  (Renewed) Samsung Galaxy S21 Ultra(Phantom Bla...   \n",
       "8   samsung phones  (Renewed) Samsung Galaxy Note 20 Ultra 5G (Mys...   \n",
       "9   samsung phones  Samsung Galaxy S20 Ultra (Cloud White, 12GB RA...   \n",
       "10  samsung phones  Samsung Galaxy Z Flip (Black, 8GB RAM, 256GB S...   \n",
       "11  samsung phones  Samsung Galaxy S20 Ultra (Cosmic Gray, 12GB RA...   \n",
       "12  samsung phones  Samsung Galaxy Z Flip (Gold, 8GB RAM, 256GB St...   \n",
       "13  samsung phones  Samsung Galaxy S21 Plus(Phantom Violet, 8GB RA...   \n",
       "\n",
       "       Price Reviews                                           ImageUrl  \n",
       "0   1,49,998      72  https://m.media-amazon.com/images/I/71U9nzW+Xs...  \n",
       "1   1,49,998      72  https://m.media-amazon.com/images/I/71IHjrw1wV...  \n",
       "2   1,14,990      15  https://m.media-amazon.com/images/I/71LhAERRPa...  \n",
       "3   1,05,999     406  https://m.media-amazon.com/images/I/917nPCOw9-...  \n",
       "4   1,05,999     406  https://m.media-amazon.com/images/I/91dLTREdG1...  \n",
       "5   1,02,999     337  https://m.media-amazon.com/images/I/81frwlzRG5...  \n",
       "6   1,02,999     337  https://m.media-amazon.com/images/I/81afQk-7Aj...  \n",
       "7     97,999       1  https://m.media-amazon.com/images/I/61wES5z2Qe...  \n",
       "8     84,999      11  https://m.media-amazon.com/images/I/51uGZJytm8...  \n",
       "9     84,999      24  https://m.media-amazon.com/images/I/710PrlbpGA...  \n",
       "10    84,999      71  https://m.media-amazon.com/images/I/71SyO27jEj...  \n",
       "11    83,999     241  https://m.media-amazon.com/images/I/71cD4NUIBW...  \n",
       "12    82,198      71  https://m.media-amazon.com/images/I/61e3gEDsIb...  \n",
       "13    80,999     129  https://m.media-amazon.com/images/I/91f+vkhKfn...  "
      ]
     },
     "execution_count": 12,
     "metadata": {},
     "output_type": "execute_result"
    }
   ],
   "source": [
    "print(df.shape)\n",
    "df"
   ]
  },
  {
   "cell_type": "code",
   "execution_count": null,
   "id": "designing-stake",
   "metadata": {},
   "outputs": [],
   "source": []
  },
  {
   "cell_type": "code",
   "execution_count": null,
   "id": "centered-dealer",
   "metadata": {},
   "outputs": [],
   "source": []
  }
 ],
 "metadata": {
  "kernelspec": {
   "display_name": "Python 3",
   "language": "python",
   "name": "python3"
  },
  "language_info": {
   "codemirror_mode": {
    "name": "ipython",
    "version": 3
   },
   "file_extension": ".py",
   "mimetype": "text/x-python",
   "name": "python",
   "nbconvert_exporter": "python",
   "pygments_lexer": "ipython3",
   "version": "3.8.8"
  }
 },
 "nbformat": 4,
 "nbformat_minor": 5
}
