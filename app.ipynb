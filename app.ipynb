{
 "cells": [
  {
   "cell_type": "code",
   "execution_count": 4,
   "id": "unsigned-innocent",
   "metadata": {},
   "outputs": [
    {
     "name": "stdout",
     "output_type": "stream",
     "text": [
      " * Serving Flask app \"__main__\" (lazy loading)\n",
      " * Environment: production\n",
      "   WARNING: This is a development server. Do not use it in a production deployment.\n",
      "   Use a production WSGI server instead.\n",
      " * Debug mode: off\n"
     ]
    },
    {
     "name": "stderr",
     "output_type": "stream",
     "text": [
      " * Running on http://127.0.0.1:5000/ (Press CTRL+C to quit)\n",
      "127.0.0.1 - - [03/May/2021 21:08:24] \"\u001b[37mGET / HTTP/1.1\u001b[0m\" 200 -\n",
      "127.0.0.1 - - [03/May/2021 21:08:24] \"\u001b[37mGET /static/logo2.png HTTP/1.1\u001b[0m\" 200 -\n",
      "127.0.0.1 - - [03/May/2021 21:09:02] \"\u001b[37mGET /?search=headphone HTTP/1.1\u001b[0m\" 200 -\n",
      "127.0.0.1 - - [03/May/2021 21:09:27] \"\u001b[37mGET /?search=headphone HTTP/1.1\u001b[0m\" 200 -\n"
     ]
    }
   ],
   "source": [
    "from flask import Flask, render_template, request\n",
    "from autoscraper import AutoScraper\n",
    "import pandas as pd\n",
    "import time\n",
    "app = Flask(__name__)\n",
    "\n",
    "#creating object and loading\n",
    "amazon_scraper = AutoScraper()\n",
    "amazon_scraper.load('amazon_in.json')    \n",
    "    \n",
    "@app.route(\"/\",methods=['GET'])  \n",
    "def home():    \n",
    "\n",
    "    #when user search it\n",
    "    if request.args.get('search'):\n",
    "        #inputs\n",
    "        search = request.args.get('search')\n",
    "        sortby = request.args.get('sortby','relevanceblender')\n",
    "        \n",
    "        #call function to retrieve data\n",
    "        search_data,original_url = searchquery(search,sortby)\n",
    "        data_length = len(search_data)\n",
    "        \n",
    "        #show to user\n",
    "        return render_template(\"index.html\",data = {'original_url':original_url,'query':search,'sortby':sortby,'searchData':search_data,'totalRecords':data_length}) \n",
    "    \n",
    "    #default data_length when no search\n",
    "    data_length = -1\n",
    "    return render_template(\"index.html\",data = {'query':\"\",'searchData':\"d\",'totalRecords':data_length}) \n",
    "def searchquery(search,sortby):\n",
    "    #load library    \n",
    "\n",
    "    #define url\n",
    "    amazon_url=\"https://www.amazon.in/s?k={}&s={}\".format(search,sortby)    \n",
    "    \n",
    "    #get data\n",
    "    data = amazon_scraper.get_result_similar(amazon_url, group_by_alias=True)\n",
    "\n",
    "    #combine data into tuple to show it to user\n",
    "    search_data = tuple(zip(data['Title'],data['ImageUrl'],data['Price'],data['Reviews']))\n",
    "\n",
    "    #creating dataframe so that user can download it in csv format\n",
    "    df = pd.DataFrame(columns=['Query','Title','Price','Reviews','ImageUrl'])\n",
    "    for i in range(len(search_data)):\n",
    "        df.loc[len(df)] = [search,search_data[i][0],search_data[i][2],search_data[i][3],search_data[i][1]]\n",
    "    df.to_csv(\"static/searchedData.csv\",index=False)\n",
    "    \n",
    "    #returing data\n",
    "    return search_data,amazon_url\n",
    "if __name__ == \"__main__\":\n",
    "    app.run(debug=False)"
   ]
  },
  {
   "cell_type": "code",
   "execution_count": null,
   "id": "funky-prime",
   "metadata": {},
   "outputs": [],
   "source": []
  }
 ],
 "metadata": {
  "kernelspec": {
   "display_name": "Python 3",
   "language": "python",
   "name": "python3"
  },
  "language_info": {
   "codemirror_mode": {
    "name": "ipython",
    "version": 3
   },
   "file_extension": ".py",
   "mimetype": "text/x-python",
   "name": "python",
   "nbconvert_exporter": "python",
   "pygments_lexer": "ipython3",
   "version": "3.8.8"
  }
 },
 "nbformat": 4,
 "nbformat_minor": 5
}
